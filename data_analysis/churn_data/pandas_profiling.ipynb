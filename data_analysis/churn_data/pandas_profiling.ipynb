{
 "cells": [
  {
   "attachments": {},
   "cell_type": "markdown",
   "metadata": {},
   "source": [
    "Using Pandas Profiling to analyze churn data"
   ]
  },
  {
   "cell_type": "code",
   "execution_count": 1,
   "metadata": {},
   "outputs": [],
   "source": [
    "import pandas as pd"
   ]
  },
  {
   "cell_type": "code",
   "execution_count": 2,
   "metadata": {},
   "outputs": [
    {
     "name": "stdout",
     "output_type": "stream",
     "text": [
      "<class 'pandas.core.frame.DataFrame'>\n",
      "RangeIndex: 3321 entries, 0 to 3320\n",
      "Data columns (total 21 columns):\n",
      " #   Column          Non-Null Count  Dtype  \n",
      "---  ------          --------------  -----  \n",
      " 0   State           3321 non-null   object \n",
      " 1   Account Length  3321 non-null   float64\n",
      " 2   Area Code       3321 non-null   float64\n",
      " 3   Phone           3321 non-null   object \n",
      " 4   Int'l Plan      3321 non-null   object \n",
      " 5   VMail Plan      3321 non-null   object \n",
      " 6   VMail Message   3321 non-null   float64\n",
      " 7   Day Mins        3321 non-null   float64\n",
      " 8   Day Calls       3321 non-null   float64\n",
      " 9   Day Charge      3321 non-null   float64\n",
      " 10  Eve Mins        3321 non-null   float64\n",
      " 11  Eve Calls       3321 non-null   float64\n",
      " 12  Eve Charge      3321 non-null   float64\n",
      " 13  Night Mins      3321 non-null   float64\n",
      " 14  Night Calls     3321 non-null   float64\n",
      " 15  Night Charge    3321 non-null   float64\n",
      " 16  Intl Mins       3321 non-null   float64\n",
      " 17  Intl Calls      3321 non-null   float64\n",
      " 18  Intl Charge     3321 non-null   float64\n",
      " 19  CustServ Calls  3321 non-null   float64\n",
      " 20  Churn?          3321 non-null   object \n",
      "dtypes: float64(16), object(5)\n",
      "memory usage: 545.0+ KB\n"
     ]
    }
   ],
   "source": [
    "df = pd.read_excel(\"Churn for exploration purposes.xlsx\")\n",
    "df.info()"
   ]
  },
  {
   "cell_type": "code",
   "execution_count": 3,
   "metadata": {},
   "outputs": [
    {
     "name": "stderr",
     "output_type": "stream",
     "text": [
      "C:\\Users\\jivan\\AppData\\Local\\Packages\\PythonSoftwareFoundation.Python.3.10_qbz5n2kfra8p0\\LocalCache\\local-packages\\Python310\\site-packages\\tqdm\\auto.py:22: TqdmWarning: IProgress not found. Please update jupyter and ipywidgets. See https://ipywidgets.readthedocs.io/en/stable/user_install.html\n",
      "  from .autonotebook import tqdm as notebook_tqdm\n",
      "C:\\Users\\jivan\\AppData\\Local\\Temp\\ipykernel_26336\\2439891333.py:1: DeprecationWarning: `import pandas_profiling` is going to be deprecated by April 1st. Please use `import ydata_profiling` instead.\n",
      "  from pandas_profiling import ProfileReport\n",
      "Summarize dataset: 100%|██████████| 286/286 [00:25<00:00, 11.19it/s, Completed]                             \n",
      "Generate report structure: 100%|██████████| 1/1 [00:04<00:00,  4.27s/it]\n",
      "Render HTML:   0%|          | 0/1 [00:00<?, ?it/s]"
     ]
    }
   ],
   "source": [
    "from pandas_profiling import ProfileReport\n",
    "prof = ProfileReport(df)\n",
    "prof.to_file('output.html')"
   ]
  },
  {
   "cell_type": "code",
   "execution_count": null,
   "metadata": {},
   "outputs": [],
   "source": []
  }
 ],
 "metadata": {
  "kernelspec": {
   "display_name": "Python 3",
   "language": "python",
   "name": "python3"
  },
  "language_info": {
   "codemirror_mode": {
    "name": "ipython",
    "version": 3
   },
   "file_extension": ".py",
   "mimetype": "text/x-python",
   "name": "python",
   "nbconvert_exporter": "python",
   "pygments_lexer": "ipython3",
   "version": "3.10.10"
  },
  "orig_nbformat": 4,
  "vscode": {
   "interpreter": {
    "hash": "291ac05ecce300c024e84a1ef5acdf1252f6fca83188103fe58a5b67eb0dded4"
   }
  }
 },
 "nbformat": 4,
 "nbformat_minor": 2
}
