{
 "cells": [
  {
   "attachments": {},
   "cell_type": "markdown",
   "metadata": {},
   "source": [
    "#### This file uses code for generating data set of different [handshake](https://joinhandshake.com/press/) news article. \n",
    "Section: In the news "
   ]
  },
  {
   "cell_type": "code",
   "execution_count": 58,
   "metadata": {},
   "outputs": [],
   "source": [
    "import pandas as pd\n",
    "import requests\n",
    "from bs4 import BeautifulSoup"
   ]
  },
  {
   "cell_type": "code",
   "execution_count": 59,
   "metadata": {},
   "outputs": [],
   "source": [
    "url = 'https://joinhandshake.com/press/'\n",
    "response= requests.get(url)\n",
    "html = response.text\n",
    "soup = BeautifulSoup(html)"
   ]
  },
  {
   "cell_type": "code",
   "execution_count": 74,
   "metadata": {},
   "outputs": [
    {
     "data": {
      "text/plain": [
       "<article class=\"wrap\">\n",
       "<div class=\"source\">Forbes</div>\n",
       "<h3><a href=\"https://www.forbes.com/sites/kristinstoller/2022/12/01/how-to-get-a-first-job-if-you-arent-linkedin/?sh=1dfa9a154b1f\" target=\"_blank\">How To Get A First Job If You Aren’t LinkedIn</a></h3>\n",
       "<div class=\"date\">December 9, 2022</div>\n",
       "</article>"
      ]
     },
     "execution_count": 74,
     "metadata": {},
     "output_type": "execute_result"
    }
   ],
   "source": [
    "total_articles = soup.findAll('ul','articles') # count 3 : news/university/press\n",
    "\n",
    "# we need 1st : news\n",
    "news_articles = total_articles[0].findAll('article','wrap')\n",
    "len(news_articles) #103 times handshake's article was published in different journal/news\n",
    "news_articles[0]"
   ]
  },
  {
   "cell_type": "code",
   "execution_count": 82,
   "metadata": {},
   "outputs": [
    {
     "data": {
      "text/html": [
       "<div>\n",
       "<style scoped>\n",
       "    .dataframe tbody tr th:only-of-type {\n",
       "        vertical-align: middle;\n",
       "    }\n",
       "\n",
       "    .dataframe tbody tr th {\n",
       "        vertical-align: top;\n",
       "    }\n",
       "\n",
       "    .dataframe thead th {\n",
       "        text-align: right;\n",
       "    }\n",
       "</style>\n",
       "<table border=\"1\" class=\"dataframe\">\n",
       "  <thead>\n",
       "    <tr style=\"text-align: right;\">\n",
       "      <th></th>\n",
       "      <th>name</th>\n",
       "      <th>title</th>\n",
       "      <th>date</th>\n",
       "      <th>source</th>\n",
       "    </tr>\n",
       "  </thead>\n",
       "  <tbody>\n",
       "    <tr>\n",
       "      <th>0</th>\n",
       "      <td>Forbes</td>\n",
       "      <td>How To Get A First Job If You Aren’t LinkedIn</td>\n",
       "      <td>2022-12-09</td>\n",
       "      <td>https://www.forbes.com/sites/kristinstoller/20...</td>\n",
       "    </tr>\n",
       "    <tr>\n",
       "      <th>1</th>\n",
       "      <td>USA Today</td>\n",
       "      <td>Biden administration partnering with job searc...</td>\n",
       "      <td>2022-09-02</td>\n",
       "      <td>https://www.usatoday.com/story/news/politics/2...</td>\n",
       "    </tr>\n",
       "    <tr>\n",
       "      <th>2</th>\n",
       "      <td>Forbes</td>\n",
       "      <td>Handshake Takes Aim At LinkedIn With $200 Mill...</td>\n",
       "      <td>2022-01-19</td>\n",
       "      <td>https://bit.ly/forbesSF</td>\n",
       "    </tr>\n",
       "    <tr>\n",
       "      <th>3</th>\n",
       "      <td>Bloomberg</td>\n",
       "      <td>Coatue-Backed Job Platform Handshake Valued at...</td>\n",
       "      <td>2022-01-19</td>\n",
       "      <td>https://bloom.bg/3GHG528</td>\n",
       "    </tr>\n",
       "    <tr>\n",
       "      <th>4</th>\n",
       "      <td>Law.com</td>\n",
       "      <td>Tesla HR Exec, Diversity Champion Exits for Le...</td>\n",
       "      <td>2022-01-11</td>\n",
       "      <td>https://www.law.com/corpcounsel/2022/01/11/tes...</td>\n",
       "    </tr>\n",
       "    <tr>\n",
       "      <th>...</th>\n",
       "      <td>...</td>\n",
       "      <td>...</td>\n",
       "      <td>...</td>\n",
       "      <td>...</td>\n",
       "    </tr>\n",
       "    <tr>\n",
       "      <th>98</th>\n",
       "      <td>Inc</td>\n",
       "      <td>To land a job students need Handshake and a smile</td>\n",
       "      <td>2017-01-06</td>\n",
       "      <td>https://www.inc.com/alex-moazed/to-land-a-job-...</td>\n",
       "    </tr>\n",
       "    <tr>\n",
       "      <th>99</th>\n",
       "      <td>Wall Street Journal</td>\n",
       "      <td>Handshake, now in 170 colleges, raises $20M fo...</td>\n",
       "      <td>2016-11-17</td>\n",
       "      <td>https://www.wsj.com/articles/handshake-now-in-...</td>\n",
       "    </tr>\n",
       "    <tr>\n",
       "      <th>100</th>\n",
       "      <td>TechCrunch</td>\n",
       "      <td>Handshake nabs another $20M to make the job hu...</td>\n",
       "      <td>2016-11-17</td>\n",
       "      <td>https://techcrunch.com/2016/11/17/handshake-na...</td>\n",
       "    </tr>\n",
       "    <tr>\n",
       "      <th>101</th>\n",
       "      <td>Fortune</td>\n",
       "      <td>This startup will help you find your next intern</td>\n",
       "      <td>2016-02-03</td>\n",
       "      <td>http://fortune.com/2016/02/03/handshake/</td>\n",
       "    </tr>\n",
       "    <tr>\n",
       "      <th>102</th>\n",
       "      <td>VentureBeat</td>\n",
       "      <td>College career network Handshake raises $10.5 ...</td>\n",
       "      <td>2016-02-03</td>\n",
       "      <td>http://venturebeat.com/2016/02/03/college-care...</td>\n",
       "    </tr>\n",
       "  </tbody>\n",
       "</table>\n",
       "<p>103 rows × 4 columns</p>\n",
       "</div>"
      ],
      "text/plain": [
       "                    name                                              title  \\\n",
       "0                 Forbes      How To Get A First Job If You Aren’t LinkedIn   \n",
       "1              USA Today  Biden administration partnering with job searc...   \n",
       "2                 Forbes  Handshake Takes Aim At LinkedIn With $200 Mill...   \n",
       "3              Bloomberg  Coatue-Backed Job Platform Handshake Valued at...   \n",
       "4                Law.com  Tesla HR Exec, Diversity Champion Exits for Le...   \n",
       "..                   ...                                                ...   \n",
       "98                   Inc  To land a job students need Handshake and a smile   \n",
       "99   Wall Street Journal  Handshake, now in 170 colleges, raises $20M fo...   \n",
       "100           TechCrunch  Handshake nabs another $20M to make the job hu...   \n",
       "101              Fortune   This startup will help you find your next intern   \n",
       "102          VentureBeat  College career network Handshake raises $10.5 ...   \n",
       "\n",
       "          date                                             source  \n",
       "0   2022-12-09  https://www.forbes.com/sites/kristinstoller/20...  \n",
       "1   2022-09-02  https://www.usatoday.com/story/news/politics/2...  \n",
       "2   2022-01-19                            https://bit.ly/forbesSF  \n",
       "3   2022-01-19                           https://bloom.bg/3GHG528  \n",
       "4   2022-01-11  https://www.law.com/corpcounsel/2022/01/11/tes...  \n",
       "..         ...                                                ...  \n",
       "98  2017-01-06  https://www.inc.com/alex-moazed/to-land-a-job-...  \n",
       "99  2016-11-17  https://www.wsj.com/articles/handshake-now-in-...  \n",
       "100 2016-11-17  https://techcrunch.com/2016/11/17/handshake-na...  \n",
       "101 2016-02-03           http://fortune.com/2016/02/03/handshake/  \n",
       "102 2016-02-03  http://venturebeat.com/2016/02/03/college-care...  \n",
       "\n",
       "[103 rows x 4 columns]"
      ]
     },
     "execution_count": 82,
     "metadata": {},
     "output_type": "execute_result"
    }
   ],
   "source": [
    "articles = []\n",
    "for article in news_articles:\n",
    "    name = article.find('div','source').text\n",
    "    title = article.find('h3').text\n",
    "    date = article.find('div','date').text\n",
    "    source = article.find('a')['href']\n",
    "\n",
    "    article_dict = {'name'  :   name,\n",
    "                    'title' :   title,\n",
    "                    'date'  :   date,\n",
    "                    'source':   source}\n",
    "\n",
    "    articles.append(article_dict)\n",
    "\n",
    "df = pd.DataFrame(articles)\n",
    "df['date'] = pd.to_datetime(df['date']) # converting to date-time object for calculations\n",
    "df"
   ]
  },
  {
   "cell_type": "code",
   "execution_count": null,
   "metadata": {},
   "outputs": [],
   "source": []
  }
 ],
 "metadata": {
  "kernelspec": {
   "display_name": "Python 3",
   "language": "python",
   "name": "python3"
  },
  "language_info": {
   "codemirror_mode": {
    "name": "ipython",
    "version": 3
   },
   "file_extension": ".py",
   "mimetype": "text/x-python",
   "name": "python",
   "nbconvert_exporter": "python",
   "pygments_lexer": "ipython3",
   "version": "3.10.10"
  },
  "orig_nbformat": 4,
  "vscode": {
   "interpreter": {
    "hash": "291ac05ecce300c024e84a1ef5acdf1252f6fca83188103fe58a5b67eb0dded4"
   }
  }
 },
 "nbformat": 4,
 "nbformat_minor": 2
}
