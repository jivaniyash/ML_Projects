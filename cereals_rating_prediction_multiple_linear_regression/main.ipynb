{
 "cells": [
  {
   "cell_type": "markdown",
   "metadata": {},
   "source": [
    "# Cerals' Rating Prediction \n",
    "### Multiple Linear Regression using Python libraries"
   ]
  },
  {
   "cell_type": "code",
   "execution_count": 1,
   "metadata": {},
   "outputs": [],
   "source": [
    "import pandas as pd\n",
    "import numpy as np\n",
    "import matplotlib.pyplot as plt\n",
    "import seaborn as sns"
   ]
  },
  {
   "cell_type": "code",
   "execution_count": 2,
   "metadata": {},
   "outputs": [
    {
     "data": {
      "text/html": [
       "<div>\n",
       "<style scoped>\n",
       "    .dataframe tbody tr th:only-of-type {\n",
       "        vertical-align: middle;\n",
       "    }\n",
       "\n",
       "    .dataframe tbody tr th {\n",
       "        vertical-align: top;\n",
       "    }\n",
       "\n",
       "    .dataframe thead th {\n",
       "        text-align: right;\n",
       "    }\n",
       "</style>\n",
       "<table border=\"1\" class=\"dataframe\">\n",
       "  <thead>\n",
       "    <tr style=\"text-align: right;\">\n",
       "      <th></th>\n",
       "      <th>Name</th>\n",
       "      <th>Manuf</th>\n",
       "      <th>Type</th>\n",
       "      <th>Calories</th>\n",
       "      <th>Protein</th>\n",
       "      <th>Fat</th>\n",
       "      <th>Sodium</th>\n",
       "      <th>Fiber</th>\n",
       "      <th>Carbo</th>\n",
       "      <th>Sugars</th>\n",
       "      <th>...</th>\n",
       "      <th>Weight</th>\n",
       "      <th>Cups</th>\n",
       "      <th>Rating</th>\n",
       "      <th>Cold</th>\n",
       "      <th>Nabisco</th>\n",
       "      <th>Quaker</th>\n",
       "      <th>Kelloggs</th>\n",
       "      <th>GeneralMills</th>\n",
       "      <th>Ralston</th>\n",
       "      <th>AHFP</th>\n",
       "    </tr>\n",
       "  </thead>\n",
       "  <tbody>\n",
       "    <tr>\n",
       "      <th>0</th>\n",
       "      <td>100%_Bran</td>\n",
       "      <td>N</td>\n",
       "      <td>C</td>\n",
       "      <td>70</td>\n",
       "      <td>4</td>\n",
       "      <td>1</td>\n",
       "      <td>130</td>\n",
       "      <td>10.0</td>\n",
       "      <td>5.0</td>\n",
       "      <td>6.0</td>\n",
       "      <td>...</td>\n",
       "      <td>1.0</td>\n",
       "      <td>0.33</td>\n",
       "      <td>68.402973</td>\n",
       "      <td>1</td>\n",
       "      <td>1</td>\n",
       "      <td>0</td>\n",
       "      <td>0</td>\n",
       "      <td>0</td>\n",
       "      <td>0</td>\n",
       "      <td>0</td>\n",
       "    </tr>\n",
       "    <tr>\n",
       "      <th>1</th>\n",
       "      <td>100%_Natural_Bran</td>\n",
       "      <td>Q</td>\n",
       "      <td>C</td>\n",
       "      <td>120</td>\n",
       "      <td>3</td>\n",
       "      <td>5</td>\n",
       "      <td>15</td>\n",
       "      <td>2.0</td>\n",
       "      <td>8.0</td>\n",
       "      <td>8.0</td>\n",
       "      <td>...</td>\n",
       "      <td>1.0</td>\n",
       "      <td>1.00</td>\n",
       "      <td>33.983679</td>\n",
       "      <td>1</td>\n",
       "      <td>0</td>\n",
       "      <td>1</td>\n",
       "      <td>0</td>\n",
       "      <td>0</td>\n",
       "      <td>0</td>\n",
       "      <td>0</td>\n",
       "    </tr>\n",
       "    <tr>\n",
       "      <th>2</th>\n",
       "      <td>All-Bran</td>\n",
       "      <td>K</td>\n",
       "      <td>C</td>\n",
       "      <td>70</td>\n",
       "      <td>4</td>\n",
       "      <td>1</td>\n",
       "      <td>260</td>\n",
       "      <td>9.0</td>\n",
       "      <td>7.0</td>\n",
       "      <td>5.0</td>\n",
       "      <td>...</td>\n",
       "      <td>1.0</td>\n",
       "      <td>0.33</td>\n",
       "      <td>59.425505</td>\n",
       "      <td>1</td>\n",
       "      <td>0</td>\n",
       "      <td>0</td>\n",
       "      <td>1</td>\n",
       "      <td>0</td>\n",
       "      <td>0</td>\n",
       "      <td>0</td>\n",
       "    </tr>\n",
       "    <tr>\n",
       "      <th>3</th>\n",
       "      <td>All-Bran_with_Extra_Fiber</td>\n",
       "      <td>K</td>\n",
       "      <td>C</td>\n",
       "      <td>50</td>\n",
       "      <td>4</td>\n",
       "      <td>0</td>\n",
       "      <td>140</td>\n",
       "      <td>14.0</td>\n",
       "      <td>8.0</td>\n",
       "      <td>0.0</td>\n",
       "      <td>...</td>\n",
       "      <td>1.0</td>\n",
       "      <td>0.50</td>\n",
       "      <td>93.704912</td>\n",
       "      <td>1</td>\n",
       "      <td>0</td>\n",
       "      <td>0</td>\n",
       "      <td>1</td>\n",
       "      <td>0</td>\n",
       "      <td>0</td>\n",
       "      <td>0</td>\n",
       "    </tr>\n",
       "    <tr>\n",
       "      <th>4</th>\n",
       "      <td>Almond_Delight</td>\n",
       "      <td>R</td>\n",
       "      <td>C</td>\n",
       "      <td>110</td>\n",
       "      <td>2</td>\n",
       "      <td>2</td>\n",
       "      <td>200</td>\n",
       "      <td>1.0</td>\n",
       "      <td>14.0</td>\n",
       "      <td>8.0</td>\n",
       "      <td>...</td>\n",
       "      <td>1.0</td>\n",
       "      <td>0.75</td>\n",
       "      <td>34.384843</td>\n",
       "      <td>1</td>\n",
       "      <td>0</td>\n",
       "      <td>0</td>\n",
       "      <td>0</td>\n",
       "      <td>0</td>\n",
       "      <td>1</td>\n",
       "      <td>0</td>\n",
       "    </tr>\n",
       "  </tbody>\n",
       "</table>\n",
       "<p>5 rows × 23 columns</p>\n",
       "</div>"
      ],
      "text/plain": [
       "                         Name Manuf Type  Calories  Protein  Fat  Sodium  \\\n",
       "0                  100%_Bran     N    C         70        4    1     130   \n",
       "1          100%_Natural_Bran     Q    C        120        3    5      15   \n",
       "2                   All-Bran     K    C         70        4    1     260   \n",
       "3  All-Bran_with_Extra_Fiber     K    C         50        4    0     140   \n",
       "4             Almond_Delight     R    C        110        2    2     200   \n",
       "\n",
       "   Fiber  Carbo  Sugars  ...  Weight  Cups     Rating  Cold  Nabisco  Quaker  \\\n",
       "0   10.0    5.0     6.0  ...     1.0  0.33  68.402973     1        1       0   \n",
       "1    2.0    8.0     8.0  ...     1.0  1.00  33.983679     1        0       1   \n",
       "2    9.0    7.0     5.0  ...     1.0  0.33  59.425505     1        0       0   \n",
       "3   14.0    8.0     0.0  ...     1.0  0.50  93.704912     1        0       0   \n",
       "4    1.0   14.0     8.0  ...     1.0  0.75  34.384843     1        0       0   \n",
       "\n",
       "   Kelloggs  GeneralMills  Ralston  AHFP  \n",
       "0         0             0        0     0  \n",
       "1         0             0        0     0  \n",
       "2         1             0        0     0  \n",
       "3         1             0        0     0  \n",
       "4         0             0        1     0  \n",
       "\n",
       "[5 rows x 23 columns]"
      ]
     },
     "execution_count": 2,
     "metadata": {},
     "output_type": "execute_result"
    }
   ],
   "source": [
    "df = pd.read_csv('cereals.CSV')\n",
    "df.head()           "
   ]
  },
  {
   "cell_type": "code",
   "execution_count": 3,
   "metadata": {},
   "outputs": [
    {
     "data": {
      "text/plain": [
       "(77, 23)"
      ]
     },
     "execution_count": 3,
     "metadata": {},
     "output_type": "execute_result"
    }
   ],
   "source": [
    "df.shape"
   ]
  },
  {
   "cell_type": "code",
   "execution_count": 4,
   "metadata": {},
   "outputs": [
    {
     "name": "stdout",
     "output_type": "stream",
     "text": [
      "<class 'pandas.core.frame.DataFrame'>\n",
      "RangeIndex: 77 entries, 0 to 76\n",
      "Data columns (total 23 columns):\n",
      " #   Column        Non-Null Count  Dtype  \n",
      "---  ------        --------------  -----  \n",
      " 0   Name          77 non-null     object \n",
      " 1   Manuf         77 non-null     object \n",
      " 2   Type          77 non-null     object \n",
      " 3   Calories      77 non-null     int64  \n",
      " 4   Protein       77 non-null     int64  \n",
      " 5   Fat           77 non-null     int64  \n",
      " 6   Sodium        77 non-null     int64  \n",
      " 7   Fiber         77 non-null     float64\n",
      " 8   Carbo         76 non-null     float64\n",
      " 9   Sugars        76 non-null     float64\n",
      " 10  Potass        75 non-null     float64\n",
      " 11  Vitamins      77 non-null     int64  \n",
      " 12  Shelf         77 non-null     int64  \n",
      " 13  Weight        77 non-null     float64\n",
      " 14  Cups          77 non-null     float64\n",
      " 15  Rating        77 non-null     float64\n",
      " 16  Cold          77 non-null     int64  \n",
      " 17  Nabisco       77 non-null     int64  \n",
      " 18  Quaker        77 non-null     int64  \n",
      " 19  Kelloggs      77 non-null     int64  \n",
      " 20  GeneralMills  77 non-null     int64  \n",
      " 21  Ralston       77 non-null     int64  \n",
      " 22  AHFP          77 non-null     int64  \n",
      "dtypes: float64(7), int64(13), object(3)\n",
      "memory usage: 14.0+ KB\n"
     ]
    }
   ],
   "source": [
    "df.info()"
   ]
  },
  {
   "cell_type": "markdown",
   "metadata": {},
   "source": [
    "---\n",
    "### Feature Pre-Processing\n",
    "Replace Null values with mean"
   ]
  },
  {
   "cell_type": "code",
   "execution_count": 5,
   "metadata": {},
   "outputs": [],
   "source": [
    "df1 = df\n",
    "from sklearn.impute import SimpleImputer\n",
    "\n",
    "# replace with mean\n",
    "si = SimpleImputer(missing_values=np.nan, strategy='mean') \n",
    "\n",
    "# considering features only with Null values- Carbo, Sugars, Potass\n",
    "si.fit(df1.iloc[:,8:11]) # fit the data parameters to the si object\n",
    "\n",
    "# transform the data\n",
    "corrected = si.transform(df1.iloc[:,8:11])\n",
    "\n",
    "# change the data to original dataframe\n",
    "df1.iloc[:,8:11] = pd.DataFrame(corrected)\n",
    "# df1 is the dataframe after preprocessing (replace Null values with mean)"
   ]
  },
  {
   "cell_type": "code",
   "execution_count": 6,
   "metadata": {},
   "outputs": [],
   "source": [
    "# Method 2\n",
    "# df3 = df\n",
    "# df3.iloc[:,8:11].fillna(df3.iloc[:,8:11].mean())\n",
    "# df3.iloc[:,8:11]"
   ]
  },
  {
   "cell_type": "markdown",
   "metadata": {},
   "source": [
    "---"
   ]
  },
  {
   "cell_type": "markdown",
   "metadata": {},
   "source": [
    "\n",
    "### Feature selection:\n",
    "\n",
    "*As per business requirements, List of all the nutritional values in dataset*\n",
    "- Calories\t\n",
    "- Protein\t\n",
    "- Fat\t\n",
    "- Sodium\t\n",
    "- Fiber\t\n",
    "- Carbo\t\n",
    "- Sugars\t\n",
    "- Potass\t\n",
    "- Vitamins\n",
    "\n",
    "Total = 9"
   ]
  },
  {
   "cell_type": "code",
   "execution_count": 7,
   "metadata": {},
   "outputs": [
    {
     "data": {
      "text/html": [
       "<div>\n",
       "<style scoped>\n",
       "    .dataframe tbody tr th:only-of-type {\n",
       "        vertical-align: middle;\n",
       "    }\n",
       "\n",
       "    .dataframe tbody tr th {\n",
       "        vertical-align: top;\n",
       "    }\n",
       "\n",
       "    .dataframe thead th {\n",
       "        text-align: right;\n",
       "    }\n",
       "</style>\n",
       "<table border=\"1\" class=\"dataframe\">\n",
       "  <thead>\n",
       "    <tr style=\"text-align: right;\">\n",
       "      <th></th>\n",
       "      <th>Name</th>\n",
       "      <th>Calories</th>\n",
       "      <th>Protein</th>\n",
       "      <th>Fat</th>\n",
       "      <th>Sodium</th>\n",
       "      <th>Fiber</th>\n",
       "      <th>Carbo</th>\n",
       "      <th>Sugars</th>\n",
       "      <th>Potass</th>\n",
       "      <th>Vitamins</th>\n",
       "      <th>Rating</th>\n",
       "    </tr>\n",
       "  </thead>\n",
       "  <tbody>\n",
       "    <tr>\n",
       "      <th>0</th>\n",
       "      <td>100%_Bran</td>\n",
       "      <td>70</td>\n",
       "      <td>4</td>\n",
       "      <td>1</td>\n",
       "      <td>130</td>\n",
       "      <td>10.0</td>\n",
       "      <td>5.0</td>\n",
       "      <td>6.0</td>\n",
       "      <td>280.000000</td>\n",
       "      <td>25</td>\n",
       "      <td>68.402973</td>\n",
       "    </tr>\n",
       "    <tr>\n",
       "      <th>1</th>\n",
       "      <td>100%_Natural_Bran</td>\n",
       "      <td>120</td>\n",
       "      <td>3</td>\n",
       "      <td>5</td>\n",
       "      <td>15</td>\n",
       "      <td>2.0</td>\n",
       "      <td>8.0</td>\n",
       "      <td>8.0</td>\n",
       "      <td>135.000000</td>\n",
       "      <td>0</td>\n",
       "      <td>33.983679</td>\n",
       "    </tr>\n",
       "    <tr>\n",
       "      <th>2</th>\n",
       "      <td>All-Bran</td>\n",
       "      <td>70</td>\n",
       "      <td>4</td>\n",
       "      <td>1</td>\n",
       "      <td>260</td>\n",
       "      <td>9.0</td>\n",
       "      <td>7.0</td>\n",
       "      <td>5.0</td>\n",
       "      <td>320.000000</td>\n",
       "      <td>25</td>\n",
       "      <td>59.425505</td>\n",
       "    </tr>\n",
       "    <tr>\n",
       "      <th>3</th>\n",
       "      <td>All-Bran_with_Extra_Fiber</td>\n",
       "      <td>50</td>\n",
       "      <td>4</td>\n",
       "      <td>0</td>\n",
       "      <td>140</td>\n",
       "      <td>14.0</td>\n",
       "      <td>8.0</td>\n",
       "      <td>0.0</td>\n",
       "      <td>330.000000</td>\n",
       "      <td>25</td>\n",
       "      <td>93.704912</td>\n",
       "    </tr>\n",
       "    <tr>\n",
       "      <th>4</th>\n",
       "      <td>Almond_Delight</td>\n",
       "      <td>110</td>\n",
       "      <td>2</td>\n",
       "      <td>2</td>\n",
       "      <td>200</td>\n",
       "      <td>1.0</td>\n",
       "      <td>14.0</td>\n",
       "      <td>8.0</td>\n",
       "      <td>98.666667</td>\n",
       "      <td>25</td>\n",
       "      <td>34.384843</td>\n",
       "    </tr>\n",
       "  </tbody>\n",
       "</table>\n",
       "</div>"
      ],
      "text/plain": [
       "                         Name  Calories  Protein  Fat  Sodium  Fiber  Carbo  \\\n",
       "0                  100%_Bran         70        4    1     130   10.0    5.0   \n",
       "1          100%_Natural_Bran        120        3    5      15    2.0    8.0   \n",
       "2                   All-Bran         70        4    1     260    9.0    7.0   \n",
       "3  All-Bran_with_Extra_Fiber         50        4    0     140   14.0    8.0   \n",
       "4             Almond_Delight        110        2    2     200    1.0   14.0   \n",
       "\n",
       "   Sugars      Potass  Vitamins     Rating  \n",
       "0     6.0  280.000000        25  68.402973  \n",
       "1     8.0  135.000000         0  33.983679  \n",
       "2     5.0  320.000000        25  59.425505  \n",
       "3     0.0  330.000000        25  93.704912  \n",
       "4     8.0   98.666667        25  34.384843  "
      ]
     },
     "execution_count": 7,
     "metadata": {},
     "output_type": "execute_result"
    }
   ],
   "source": [
    "#df2- considering only attributes that are needed for model training (nutritional values)\n",
    "df2 = df1.iloc[:,[0,3,4,5,6,7,8,9,10,11,15]]\n",
    "df2.head()"
   ]
  },
  {
   "cell_type": "markdown",
   "metadata": {},
   "source": [
    "---"
   ]
  },
  {
   "attachments": {},
   "cell_type": "markdown",
   "metadata": {},
   "source": [
    "## Multiple_LinearRegression Class"
   ]
  },
  {
   "cell_type": "code",
   "execution_count": 8,
   "metadata": {},
   "outputs": [],
   "source": [
    "from sklearn.model_selection import train_test_split\n",
    "from sklearn.linear_model import LinearRegression\n",
    "\n",
    "# load Model accuracy functions\n",
    "from sklearn.metrics import mean_absolute_error\n",
    "from sklearn.metrics import mean_squared_error\n",
    "from sklearn.metrics import r2_score\n",
    "\n",
    "# display prediction\n",
    "from sklearn.metrics import PredictionErrorDisplay"
   ]
  },
  {
   "cell_type": "code",
   "execution_count": 9,
   "metadata": {},
   "outputs": [],
   "source": [
    "class Multiple_LinearRegression:\n",
    "    ''' Multiple_LinearRegression class is used to perform operations on the data and predict output\n",
    "    df: pandas DataFrame object \n",
    "    X_column_name: list of Input columns Name \n",
    "    y_column_name: output column name\n",
    "    '''\n",
    "    def __init__(self,model_number: int, df:pd.DataFrame, X_column_name:list, \n",
    "                 y_column_name, test_size:0.2, random_state:42):\n",
    "        self.model_number = model_number\n",
    "        self.df = df\n",
    "        self.X_column_name = X_column_name\n",
    "        self.y_column_name = y_column_name\n",
    "        self.test_size = test_size\n",
    "        self.random_state = random_state\n",
    "        self.X = self.df[X_column_name] # Input features\n",
    "        self.y = self.df[y_column_name] # Output rating\n",
    "        self.train_test_split()\n",
    "        self.model()\n",
    "\n",
    "\n",
    "    def train_test_split(self):\n",
    "        ''' Function is used to split train-test data'''\n",
    "        # train-test split\n",
    "        self.X_train, self.X_test, self.y_train, self.y_test = train_test_split(self.X, self.y, \n",
    "                                        test_size=self.test_size, random_state=self.random_state)\n",
    "        \n",
    "    def model(self):\n",
    "        ''' Function is used to fit the model to train data & \n",
    "        predict the values for test data.\n",
    "        '''\n",
    "\n",
    "        # create model object\n",
    "        self.lr = LinearRegression()\n",
    "\n",
    "        # fit the train data into model\n",
    "        self.lr.fit(self.X_train,self.y_train)\n",
    "\n",
    "        # as per the parameters learned by the model, test the data\n",
    "        self.y_pred = self.lr.predict(self.X_test)\n",
    "\n",
    "\n",
    "    def error_score(self):\n",
    "        ''' returns DataFrame object of error scores\n",
    "        '''\n",
    "        print('Model No. {} Details: -'.format(self.model_number))\n",
    "\n",
    "        # create Dataframe metrics\n",
    "        self.error_df = pd.DataFrame()\n",
    "        self.error_df['metrics'] = ['r2_score', 'mean_absolute_error', 'mean_squared_error']\n",
    "        self.error_df['error'] = [round(r2_score(self.y_test, self.y_pred),2),\n",
    "                            round(mean_absolute_error(self.y_test, self.y_pred),2),\n",
    "                            round(mean_squared_error(self.y_test, self.y_pred),2)]\n",
    "        \n",
    "        return self.error_df\n",
    "\n",
    "    def coefficient(self):\n",
    "\n",
    "        self.intercept = self.lr.intercept_\n",
    "        self.coef = self.lr.coef_.tolist()\n",
    "\n",
    "        # printing regression equation\n",
    "        print('Rating =',round(self.intercept,2))\n",
    "        for i,coef_name in enumerate(self.X_column_name):\n",
    "            if self.coef[i] > 0:\n",
    "                print('+',round(self.coef[i],2),'*',coef_name)\n",
    "            else:\n",
    "                print(round(self.coef[i],2),'*',coef_name)\n",
    "\n",
    "    def plots(self):\n",
    "        # Plot PredictionErrror graph\n",
    "        PredictionErrorDisplay.from_predictions(y_true=self.y_test, y_pred=self.y_pred)\n",
    "        plt.title('Predicted values of test data')\n",
    "\n",
    "        PredictionErrorDisplay.from_estimator(self.lr,self.X,self.y)\n",
    "        plt.title('Residual Values of Full Data set')\n",
    "    \n",
    "    def predict(self,X_new_test):\n",
    "            ''' Predict the values of new input data '''\n",
    "            return self.lr.predict(X_new_test[self.X_column_name])\n",
    "        "
   ]
  },
  {
   "attachments": {},
   "cell_type": "markdown",
   "metadata": {},
   "source": [
    "---"
   ]
  },
  {
   "attachments": {},
   "cell_type": "markdown",
   "metadata": {},
   "source": [
    "Multi-Colinearlity is the state where some of the independent variables (predictors) used to predict a dependent variable has strong corelation with one other. It could create problems as independent variables has to to independent as per assumption in training a model.\n",
    "\n",
    "As there are multiple predictor (dependent variables) to predict the rating of a Cereal, two common evaluation metrics used for detecting multicollinearity are:\n",
    "\n",
    "__1. Correaltion Matrix Coefficient__\n",
    "    - is the Magnitude of the Pearson's correlation coefficient signifies the strength of the relationship, with a higher value corresponding to a stronger relationship.\n"
   ]
  },
  {
   "cell_type": "code",
   "execution_count": 10,
   "metadata": {},
   "outputs": [
    {
     "data": {
      "text/html": [
       "<div>\n",
       "<style scoped>\n",
       "    .dataframe tbody tr th:only-of-type {\n",
       "        vertical-align: middle;\n",
       "    }\n",
       "\n",
       "    .dataframe tbody tr th {\n",
       "        vertical-align: top;\n",
       "    }\n",
       "\n",
       "    .dataframe thead th {\n",
       "        text-align: right;\n",
       "    }\n",
       "</style>\n",
       "<table border=\"1\" class=\"dataframe\">\n",
       "  <thead>\n",
       "    <tr style=\"text-align: right;\">\n",
       "      <th></th>\n",
       "      <th>Calories</th>\n",
       "      <th>Protein</th>\n",
       "      <th>Fat</th>\n",
       "      <th>Sodium</th>\n",
       "      <th>Fiber</th>\n",
       "      <th>Carbo</th>\n",
       "      <th>Sugars</th>\n",
       "      <th>Potass</th>\n",
       "      <th>Vitamins</th>\n",
       "      <th>Rating</th>\n",
       "    </tr>\n",
       "  </thead>\n",
       "  <tbody>\n",
       "    <tr>\n",
       "      <th>Calories</th>\n",
       "      <td>1.000000</td>\n",
       "      <td>0.019066</td>\n",
       "      <td>0.498610</td>\n",
       "      <td>0.300649</td>\n",
       "      <td>-0.293413</td>\n",
       "      <td>0.257423</td>\n",
       "      <td>0.566062</td>\n",
       "      <td>-0.071991</td>\n",
       "      <td>0.265356</td>\n",
       "      <td>-0.689376</td>\n",
       "    </tr>\n",
       "    <tr>\n",
       "      <th>Protein</th>\n",
       "      <td>0.019066</td>\n",
       "      <td>1.000000</td>\n",
       "      <td>0.208431</td>\n",
       "      <td>-0.054674</td>\n",
       "      <td>0.500330</td>\n",
       "      <td>-0.024160</td>\n",
       "      <td>-0.281905</td>\n",
       "      <td>0.562143</td>\n",
       "      <td>0.007335</td>\n",
       "      <td>0.470618</td>\n",
       "    </tr>\n",
       "    <tr>\n",
       "      <th>Fat</th>\n",
       "      <td>0.498610</td>\n",
       "      <td>0.208431</td>\n",
       "      <td>1.000000</td>\n",
       "      <td>-0.005407</td>\n",
       "      <td>0.016719</td>\n",
       "      <td>-0.298074</td>\n",
       "      <td>0.300552</td>\n",
       "      <td>0.197823</td>\n",
       "      <td>-0.031156</td>\n",
       "      <td>-0.409284</td>\n",
       "    </tr>\n",
       "    <tr>\n",
       "      <th>Sodium</th>\n",
       "      <td>0.300649</td>\n",
       "      <td>-0.054674</td>\n",
       "      <td>-0.005407</td>\n",
       "      <td>1.000000</td>\n",
       "      <td>-0.070675</td>\n",
       "      <td>0.290399</td>\n",
       "      <td>0.057425</td>\n",
       "      <td>-0.042312</td>\n",
       "      <td>0.361477</td>\n",
       "      <td>-0.401295</td>\n",
       "    </tr>\n",
       "    <tr>\n",
       "      <th>Fiber</th>\n",
       "      <td>-0.293413</td>\n",
       "      <td>0.500330</td>\n",
       "      <td>0.016719</td>\n",
       "      <td>-0.070675</td>\n",
       "      <td>1.000000</td>\n",
       "      <td>-0.380223</td>\n",
       "      <td>-0.138711</td>\n",
       "      <td>0.908647</td>\n",
       "      <td>-0.032243</td>\n",
       "      <td>0.584160</td>\n",
       "    </tr>\n",
       "    <tr>\n",
       "      <th>Carbo</th>\n",
       "      <td>0.257423</td>\n",
       "      <td>-0.024160</td>\n",
       "      <td>-0.298074</td>\n",
       "      <td>0.290399</td>\n",
       "      <td>-0.380223</td>\n",
       "      <td>1.000000</td>\n",
       "      <td>-0.471184</td>\n",
       "      <td>-0.358557</td>\n",
       "      <td>0.216854</td>\n",
       "      <td>0.088513</td>\n",
       "    </tr>\n",
       "    <tr>\n",
       "      <th>Sugars</th>\n",
       "      <td>0.566062</td>\n",
       "      <td>-0.281905</td>\n",
       "      <td>0.300552</td>\n",
       "      <td>0.057425</td>\n",
       "      <td>-0.138711</td>\n",
       "      <td>-0.471184</td>\n",
       "      <td>1.000000</td>\n",
       "      <td>0.001348</td>\n",
       "      <td>0.097179</td>\n",
       "      <td>-0.762181</td>\n",
       "    </tr>\n",
       "    <tr>\n",
       "      <th>Potass</th>\n",
       "      <td>-0.071991</td>\n",
       "      <td>0.562143</td>\n",
       "      <td>0.197823</td>\n",
       "      <td>-0.042312</td>\n",
       "      <td>0.908647</td>\n",
       "      <td>-0.358557</td>\n",
       "      <td>0.001348</td>\n",
       "      <td>1.000000</td>\n",
       "      <td>-0.005368</td>\n",
       "      <td>0.408320</td>\n",
       "    </tr>\n",
       "    <tr>\n",
       "      <th>Vitamins</th>\n",
       "      <td>0.265356</td>\n",
       "      <td>0.007335</td>\n",
       "      <td>-0.031156</td>\n",
       "      <td>0.361477</td>\n",
       "      <td>-0.032243</td>\n",
       "      <td>0.216854</td>\n",
       "      <td>0.097179</td>\n",
       "      <td>-0.005368</td>\n",
       "      <td>1.000000</td>\n",
       "      <td>-0.240544</td>\n",
       "    </tr>\n",
       "    <tr>\n",
       "      <th>Rating</th>\n",
       "      <td>-0.689376</td>\n",
       "      <td>0.470618</td>\n",
       "      <td>-0.409284</td>\n",
       "      <td>-0.401295</td>\n",
       "      <td>0.584160</td>\n",
       "      <td>0.088513</td>\n",
       "      <td>-0.762181</td>\n",
       "      <td>0.408320</td>\n",
       "      <td>-0.240544</td>\n",
       "      <td>1.000000</td>\n",
       "    </tr>\n",
       "  </tbody>\n",
       "</table>\n",
       "</div>"
      ],
      "text/plain": [
       "          Calories   Protein       Fat    Sodium     Fiber     Carbo  \\\n",
       "Calories  1.000000  0.019066  0.498610  0.300649 -0.293413  0.257423   \n",
       "Protein   0.019066  1.000000  0.208431 -0.054674  0.500330 -0.024160   \n",
       "Fat       0.498610  0.208431  1.000000 -0.005407  0.016719 -0.298074   \n",
       "Sodium    0.300649 -0.054674 -0.005407  1.000000 -0.070675  0.290399   \n",
       "Fiber    -0.293413  0.500330  0.016719 -0.070675  1.000000 -0.380223   \n",
       "Carbo     0.257423 -0.024160 -0.298074  0.290399 -0.380223  1.000000   \n",
       "Sugars    0.566062 -0.281905  0.300552  0.057425 -0.138711 -0.471184   \n",
       "Potass   -0.071991  0.562143  0.197823 -0.042312  0.908647 -0.358557   \n",
       "Vitamins  0.265356  0.007335 -0.031156  0.361477 -0.032243  0.216854   \n",
       "Rating   -0.689376  0.470618 -0.409284 -0.401295  0.584160  0.088513   \n",
       "\n",
       "            Sugars    Potass  Vitamins    Rating  \n",
       "Calories  0.566062 -0.071991  0.265356 -0.689376  \n",
       "Protein  -0.281905  0.562143  0.007335  0.470618  \n",
       "Fat       0.300552  0.197823 -0.031156 -0.409284  \n",
       "Sodium    0.057425 -0.042312  0.361477 -0.401295  \n",
       "Fiber    -0.138711  0.908647 -0.032243  0.584160  \n",
       "Carbo    -0.471184 -0.358557  0.216854  0.088513  \n",
       "Sugars    1.000000  0.001348  0.097179 -0.762181  \n",
       "Potass    0.001348  1.000000 -0.005368  0.408320  \n",
       "Vitamins  0.097179 -0.005368  1.000000 -0.240544  \n",
       "Rating   -0.762181  0.408320 -0.240544  1.000000  "
      ]
     },
     "execution_count": 10,
     "metadata": {},
     "output_type": "execute_result"
    }
   ],
   "source": [
    "# The relationship between nutritional rating and the nine predictor variables using correlation.\n",
    "corr_matrix = df2.iloc[:,1:].corr()\n",
    "corr_matrix"
   ]
  },
  {
   "cell_type": "markdown",
   "metadata": {},
   "source": [
    "__Plotting Heatmap__"
   ]
  },
  {
   "cell_type": "code",
   "execution_count": 11,
   "metadata": {},
   "outputs": [
    {
     "data": {
      "image/png": "[encoded data removed]",
      "text/plain": [
       "<Figure size 640x480 with 2 Axes>"
      ]
     },
     "metadata": {},
     "output_type": "display_data"
    }
   ],
   "source": [
    "# hiding upper traingular region\n",
    "mask = np.triu(np.ones_like(corr_matrix))\n",
    "\n",
    "# plotting heatmap \n",
    "sns.heatmap(corr_matrix, annot=True, vmax=1, vmin=-1, mask = mask, cmap='coolwarm')\n",
    "plt.title('Correlation Coefficient Of Predictor Variables')\n",
    "plt.show()"
   ]
  },
  {
   "attachments": {},
   "cell_type": "markdown",
   "metadata": {},
   "source": [
    "#### Findings from heatmap (correltion matrix)\n",
    "##### _Colinearity with Rating_\n",
    "- __Calories,Fiber,Sugars__ has high correlation coef. with rating (correlation coefficient greater than 0.5 or less than -0.5)\n",
    "- __Carbo__ has very low correlation coef. with rating (correlation coefficient = 0.089)\n",
    "\n",
    "##### _Colinearity with other independent variable_\n",
    "Considering the correlation coefficient greater than 0.5 or less than -0.5 :\n",
    "\n",
    "1. Potass is highly co-related with Fiber (0.91)\n",
    "2. Potass with protein (0.56)\n",
    "3. Sugars with calories (0.57) "
   ]
  },
  {
   "cell_type": "markdown",
   "metadata": {},
   "source": [
    "---"
   ]
  },
  {
   "attachments": {},
   "cell_type": "markdown",
   "metadata": {},
   "source": [
    "__2. Variance Inflation Factor (VIF)__\n",
    "    - VIF is the ratio of the variance of the entire model to the variance of a model with only the particular feature in selection i.e contribution of the feature to predict the output.\n",
    "    - VIF of 1 indicates that the feature has no correlation with any of the other features.\n",
    "    - VIF value exceeding 5 or 10 is deemed to be too high. Any feature with such VIF values is likely to be contributing to multicollinearity.\n",
    "\n",
    "To make decisions for removal of the features which have higher value of correlation coefficient with other independent variable, VIF is used"
   ]
  },
  {
   "cell_type": "code",
   "execution_count": 12,
   "metadata": {},
   "outputs": [],
   "source": [
    "def calculate_vif(df:pd.DataFrame, features: list):\n",
    "    ''' calculate_vif function is used to calculate vif(Variance Inflation Factor) \n",
    "    from given dataframe features.\n",
    "\n",
    "    df : pandas DataFrame\n",
    "    features: list of features to be considered for calculating VIF \n",
    "    \n",
    "    returns a pandas dataframe object with 2 columns: Feature_Names & VIF'''\n",
    "    \n",
    "    dataframe = df[features]\n",
    "    vif_values = np.diag(np.linalg.inv(np.corrcoef(dataframe.to_numpy(), rowvar=False)))\n",
    "\n",
    "    vif_df = pd.DataFrame()\n",
    "    vif_df['Feature_Names'] = dataframe.columns\n",
    "    vif_df['VIF'] = vif_values\n",
    "\n",
    "    return vif_df.sort_values(by='VIF', ascending=False)\n",
    "\n",
    "# Method 2 (From StatsModel library) to calculate vif\n",
    "# from statsmodels.stats.outliers_influence import variance_inflation_factor\n",
    "# X = df2[features]\n",
    "# x = X.assign(const=1)\n",
    "# pd.DataFrame([[x.columns[i],variance_inflation_factor(x.values,i)] for i in range(len(x.columns)-1)])"
   ]
  },
  {
   "attachments": {},
   "cell_type": "markdown",
   "metadata": {},
   "source": [
    "Among the 9 features - which to select & remove for training the model?"
   ]
  },
  {
   "attachments": {},
   "cell_type": "markdown",
   "metadata": {},
   "source": [
    "---\n",
    "### For Model 1 - Considering all Nutritional Features\n",
    "---"
   ]
  },
  {
   "cell_type": "code",
   "execution_count": 13,
   "metadata": {},
   "outputs": [],
   "source": [
    "model_1_features = ['Calories',\n",
    "                    'Protein',\n",
    "                    'Fat',\n",
    "                    'Sodium',\n",
    "                    'Fiber',\n",
    "                    'Carbo',\n",
    "                    'Sugars',\n",
    "                    'Potass',\n",
    "                    'Vitamins']\n",
    "md_1 = Multiple_LinearRegression(model_number=1, df=df2, X_column_name=model_1_features, \n",
    "                                y_column_name='Rating', \n",
    "                                test_size=0.2, random_state=42)"
   ]
  },
  {
   "cell_type": "code",
   "execution_count": 14,
   "metadata": {},
   "outputs": [
    {
     "name": "stdout",
     "output_type": "stream",
     "text": [
      "Model No. 1 Details: -\n"
     ]
    },
    {
     "data": {
      "text/html": [
       "<div>\n",
       "<style scoped>\n",
       "    .dataframe tbody tr th:only-of-type {\n",
       "        vertical-align: middle;\n",
       "    }\n",
       "\n",
       "    .dataframe tbody tr th {\n",
       "        vertical-align: top;\n",
       "    }\n",
       "\n",
       "    .dataframe thead th {\n",
       "        text-align: right;\n",
       "    }\n",
       "</style>\n",
       "<table border=\"1\" class=\"dataframe\">\n",
       "  <thead>\n",
       "    <tr style=\"text-align: right;\">\n",
       "      <th></th>\n",
       "      <th>metrics</th>\n",
       "      <th>error</th>\n",
       "    </tr>\n",
       "  </thead>\n",
       "  <tbody>\n",
       "    <tr>\n",
       "      <th>0</th>\n",
       "      <td>r2_score</td>\n",
       "      <td>0.99</td>\n",
       "    </tr>\n",
       "    <tr>\n",
       "      <th>1</th>\n",
       "      <td>mean_absolute_error</td>\n",
       "      <td>0.78</td>\n",
       "    </tr>\n",
       "    <tr>\n",
       "      <th>2</th>\n",
       "      <td>mean_squared_error</td>\n",
       "      <td>1.31</td>\n",
       "    </tr>\n",
       "  </tbody>\n",
       "</table>\n",
       "</div>"
      ],
      "text/plain": [
       "               metrics  error\n",
       "0             r2_score   0.99\n",
       "1  mean_absolute_error   0.78\n",
       "2   mean_squared_error   1.31"
      ]
     },
     "execution_count": 14,
     "metadata": {},
     "output_type": "execute_result"
    }
   ],
   "source": [
    "md_1.error_score()"
   ]
  },
  {
   "cell_type": "code",
   "execution_count": 15,
   "metadata": {},
   "outputs": [
    {
     "name": "stdout",
     "output_type": "stream",
     "text": [
      "Rating = 56.74\n",
      "-0.09 * Calories\n",
      "+ 2.31 * Protein\n",
      "-3.07 * Fat\n",
      "-0.05 * Sodium\n",
      "+ 3.04 * Fiber\n",
      "+ 0.46 * Carbo\n",
      "-1.37 * Sugars\n",
      "-0.02 * Potass\n",
      "-0.05 * Vitamins\n"
     ]
    }
   ],
   "source": [
    "md_1.coefficient()"
   ]
  },
  {
   "cell_type": "code",
   "execution_count": 16,
   "metadata": {},
   "outputs": [
    {
     "data": {
      "image/png": "[encoded data removed]",
      "text/plain": [
       "<Figure size 640x480 with 1 Axes>"
      ]
     },
     "metadata": {},
     "output_type": "display_data"
    },
    {
     "data": {
      "image/png": "[encoded data removed]",
      "text/plain": [
       "<Figure size 640x480 with 1 Axes>"
      ]
     },
     "metadata": {},
     "output_type": "display_data"
    }
   ],
   "source": [
    "md_1.plots()"
   ]
  },
  {
   "attachments": {},
   "cell_type": "markdown",
   "metadata": {},
   "source": [
    "---\n",
    "### For Model 2 - Considering Nutritional Features after performing only VIF\n",
    "---"
   ]
  },
  {
   "cell_type": "code",
   "execution_count": 17,
   "metadata": {},
   "outputs": [
    {
     "data": {
      "text/html": [
       "<div>\n",
       "<style scoped>\n",
       "    .dataframe tbody tr th:only-of-type {\n",
       "        vertical-align: middle;\n",
       "    }\n",
       "\n",
       "    .dataframe tbody tr th {\n",
       "        vertical-align: top;\n",
       "    }\n",
       "\n",
       "    .dataframe thead th {\n",
       "        text-align: right;\n",
       "    }\n",
       "</style>\n",
       "<table border=\"1\" class=\"dataframe\">\n",
       "  <thead>\n",
       "    <tr style=\"text-align: right;\">\n",
       "      <th></th>\n",
       "      <th>Feature_Names</th>\n",
       "      <th>VIF</th>\n",
       "    </tr>\n",
       "  </thead>\n",
       "  <tbody>\n",
       "    <tr>\n",
       "      <th>0</th>\n",
       "      <td>Calories</td>\n",
       "      <td>12.518834</td>\n",
       "    </tr>\n",
       "    <tr>\n",
       "      <th>6</th>\n",
       "      <td>Sugars</td>\n",
       "      <td>11.655789</td>\n",
       "    </tr>\n",
       "    <tr>\n",
       "      <th>5</th>\n",
       "      <td>Carbo</td>\n",
       "      <td>10.690550</td>\n",
       "    </tr>\n",
       "    <tr>\n",
       "      <th>4</th>\n",
       "      <td>Fiber</td>\n",
       "      <td>9.308605</td>\n",
       "    </tr>\n",
       "    <tr>\n",
       "      <th>7</th>\n",
       "      <td>Potass</td>\n",
       "      <td>8.807774</td>\n",
       "    </tr>\n",
       "    <tr>\n",
       "      <th>2</th>\n",
       "      <td>Fat</td>\n",
       "      <td>4.012622</td>\n",
       "    </tr>\n",
       "    <tr>\n",
       "      <th>1</th>\n",
       "      <td>Protein</td>\n",
       "      <td>2.184987</td>\n",
       "    </tr>\n",
       "    <tr>\n",
       "      <th>3</th>\n",
       "      <td>Sodium</td>\n",
       "      <td>1.290330</td>\n",
       "    </tr>\n",
       "    <tr>\n",
       "      <th>8</th>\n",
       "      <td>Vitamins</td>\n",
       "      <td>1.229869</td>\n",
       "    </tr>\n",
       "  </tbody>\n",
       "</table>\n",
       "</div>"
      ],
      "text/plain": [
       "  Feature_Names        VIF\n",
       "0      Calories  12.518834\n",
       "6        Sugars  11.655789\n",
       "5         Carbo  10.690550\n",
       "4         Fiber   9.308605\n",
       "7        Potass   8.807774\n",
       "2           Fat   4.012622\n",
       "1       Protein   2.184987\n",
       "3        Sodium   1.290330\n",
       "8      Vitamins   1.229869"
      ]
     },
     "execution_count": 17,
     "metadata": {},
     "output_type": "execute_result"
    }
   ],
   "source": [
    "# all features\n",
    "model_2_features = ['Calories',\n",
    "                    'Protein',\n",
    "                    'Fat',\n",
    "                    'Sodium',\n",
    "                    'Fiber',\n",
    "                    'Carbo',\n",
    "                    'Sugars',\n",
    "                    'Potass',\n",
    "                    'Vitamins']\n",
    "calculate_vif(df2,model_2_features)"
   ]
  },
  {
   "cell_type": "code",
   "execution_count": 18,
   "metadata": {},
   "outputs": [
    {
     "data": {
      "text/html": [
       "<div>\n",
       "<style scoped>\n",
       "    .dataframe tbody tr th:only-of-type {\n",
       "        vertical-align: middle;\n",
       "    }\n",
       "\n",
       "    .dataframe tbody tr th {\n",
       "        vertical-align: top;\n",
       "    }\n",
       "\n",
       "    .dataframe thead th {\n",
       "        text-align: right;\n",
       "    }\n",
       "</style>\n",
       "<table border=\"1\" class=\"dataframe\">\n",
       "  <thead>\n",
       "    <tr style=\"text-align: right;\">\n",
       "      <th></th>\n",
       "      <th>Feature_Names</th>\n",
       "      <th>VIF</th>\n",
       "    </tr>\n",
       "  </thead>\n",
       "  <tbody>\n",
       "    <tr>\n",
       "      <th>3</th>\n",
       "      <td>Fiber</td>\n",
       "      <td>9.219768</td>\n",
       "    </tr>\n",
       "    <tr>\n",
       "      <th>6</th>\n",
       "      <td>Potass</td>\n",
       "      <td>8.783022</td>\n",
       "    </tr>\n",
       "    <tr>\n",
       "      <th>4</th>\n",
       "      <td>Carbo</td>\n",
       "      <td>2.414762</td>\n",
       "    </tr>\n",
       "    <tr>\n",
       "      <th>5</th>\n",
       "      <td>Sugars</td>\n",
       "      <td>2.125426</td>\n",
       "    </tr>\n",
       "    <tr>\n",
       "      <th>0</th>\n",
       "      <td>Protein</td>\n",
       "      <td>1.801059</td>\n",
       "    </tr>\n",
       "    <tr>\n",
       "      <th>1</th>\n",
       "      <td>Fat</td>\n",
       "      <td>1.476870</td>\n",
       "    </tr>\n",
       "    <tr>\n",
       "      <th>2</th>\n",
       "      <td>Sodium</td>\n",
       "      <td>1.281200</td>\n",
       "    </tr>\n",
       "    <tr>\n",
       "      <th>7</th>\n",
       "      <td>Vitamins</td>\n",
       "      <td>1.228690</td>\n",
       "    </tr>\n",
       "  </tbody>\n",
       "</table>\n",
       "</div>"
      ],
      "text/plain": [
       "  Feature_Names       VIF\n",
       "3         Fiber  9.219768\n",
       "6        Potass  8.783022\n",
       "4         Carbo  2.414762\n",
       "5        Sugars  2.125426\n",
       "0       Protein  1.801059\n",
       "1           Fat  1.476870\n",
       "2        Sodium  1.281200\n",
       "7      Vitamins  1.228690"
      ]
     },
     "execution_count": 18,
     "metadata": {},
     "output_type": "execute_result"
    }
   ],
   "source": [
    "# removing feature 1 by 1 \n",
    "# Calories - VIF > 5 \n",
    "model_2_features = ['Protein',\n",
    "                    'Fat',\n",
    "                    'Sodium',\n",
    "                    'Fiber',\n",
    "                    'Carbo',\n",
    "                    'Sugars',\n",
    "                    'Potass',\n",
    "                    'Vitamins']\n",
    "calculate_vif(df2,model_2_features)"
   ]
  },
  {
   "cell_type": "code",
   "execution_count": 19,
   "metadata": {},
   "outputs": [
    {
     "data": {
      "text/html": [
       "<div>\n",
       "<style scoped>\n",
       "    .dataframe tbody tr th:only-of-type {\n",
       "        vertical-align: middle;\n",
       "    }\n",
       "\n",
       "    .dataframe tbody tr th {\n",
       "        vertical-align: top;\n",
       "    }\n",
       "\n",
       "    .dataframe thead th {\n",
       "        text-align: right;\n",
       "    }\n",
       "</style>\n",
       "<table border=\"1\" class=\"dataframe\">\n",
       "  <thead>\n",
       "    <tr style=\"text-align: right;\">\n",
       "      <th></th>\n",
       "      <th>Feature_Names</th>\n",
       "      <th>VIF</th>\n",
       "    </tr>\n",
       "  </thead>\n",
       "  <tbody>\n",
       "    <tr>\n",
       "      <th>3</th>\n",
       "      <td>Carbo</td>\n",
       "      <td>1.925205</td>\n",
       "    </tr>\n",
       "    <tr>\n",
       "      <th>5</th>\n",
       "      <td>Potass</td>\n",
       "      <td>1.808251</td>\n",
       "    </tr>\n",
       "    <tr>\n",
       "      <th>0</th>\n",
       "      <td>Protein</td>\n",
       "      <td>1.797407</td>\n",
       "    </tr>\n",
       "    <tr>\n",
       "      <th>4</th>\n",
       "      <td>Sugars</td>\n",
       "      <td>1.711440</td>\n",
       "    </tr>\n",
       "    <tr>\n",
       "      <th>2</th>\n",
       "      <td>Sodium</td>\n",
       "      <td>1.270626</td>\n",
       "    </tr>\n",
       "    <tr>\n",
       "      <th>1</th>\n",
       "      <td>Fat</td>\n",
       "      <td>1.254801</td>\n",
       "    </tr>\n",
       "    <tr>\n",
       "      <th>6</th>\n",
       "      <td>Vitamins</td>\n",
       "      <td>1.222430</td>\n",
       "    </tr>\n",
       "  </tbody>\n",
       "</table>\n",
       "</div>"
      ],
      "text/plain": [
       "  Feature_Names       VIF\n",
       "3         Carbo  1.925205\n",
       "5        Potass  1.808251\n",
       "0       Protein  1.797407\n",
       "4        Sugars  1.711440\n",
       "2        Sodium  1.270626\n",
       "1           Fat  1.254801\n",
       "6      Vitamins  1.222430"
      ]
     },
     "execution_count": 19,
     "metadata": {},
     "output_type": "execute_result"
    }
   ],
   "source": [
    "# removing fiber - VIF > 9.2\n",
    "model_2_features = ['Protein',\n",
    "                    'Fat',\n",
    "                    'Sodium',\n",
    "                    'Carbo',\n",
    "                    'Sugars',\n",
    "                    'Potass',\n",
    "                    'Vitamins']\n",
    "calculate_vif(df2,model_2_features)"
   ]
  },
  {
   "cell_type": "code",
   "execution_count": 20,
   "metadata": {},
   "outputs": [],
   "source": [
    "md_2 = Multiple_LinearRegression(model_number=2, df=df2, X_column_name=model_2_features, \n",
    "                                y_column_name='Rating', \n",
    "                                test_size=0.2, random_state=42)"
   ]
  },
  {
   "cell_type": "code",
   "execution_count": 21,
   "metadata": {},
   "outputs": [
    {
     "name": "stdout",
     "output_type": "stream",
     "text": [
      "Model No. 2 Details: -\n"
     ]
    },
    {
     "data": {
      "text/html": [
       "<div>\n",
       "<style scoped>\n",
       "    .dataframe tbody tr th:only-of-type {\n",
       "        vertical-align: middle;\n",
       "    }\n",
       "\n",
       "    .dataframe tbody tr th {\n",
       "        vertical-align: top;\n",
       "    }\n",
       "\n",
       "    .dataframe thead th {\n",
       "        text-align: right;\n",
       "    }\n",
       "</style>\n",
       "<table border=\"1\" class=\"dataframe\">\n",
       "  <thead>\n",
       "    <tr style=\"text-align: right;\">\n",
       "      <th></th>\n",
       "      <th>metrics</th>\n",
       "      <th>error</th>\n",
       "    </tr>\n",
       "  </thead>\n",
       "  <tbody>\n",
       "    <tr>\n",
       "      <th>0</th>\n",
       "      <td>r2_score</td>\n",
       "      <td>0.98</td>\n",
       "    </tr>\n",
       "    <tr>\n",
       "      <th>1</th>\n",
       "      <td>mean_absolute_error</td>\n",
       "      <td>1.66</td>\n",
       "    </tr>\n",
       "    <tr>\n",
       "      <th>2</th>\n",
       "      <td>mean_squared_error</td>\n",
       "      <td>4.31</td>\n",
       "    </tr>\n",
       "  </tbody>\n",
       "</table>\n",
       "</div>"
      ],
      "text/plain": [
       "               metrics  error\n",
       "0             r2_score   0.98\n",
       "1  mean_absolute_error   1.66\n",
       "2   mean_squared_error   4.31"
      ]
     },
     "execution_count": 21,
     "metadata": {},
     "output_type": "execute_result"
    }
   ],
   "source": [
    "md_2.error_score()"
   ]
  },
  {
   "cell_type": "code",
   "execution_count": 22,
   "metadata": {},
   "outputs": [
    {
     "name": "stdout",
     "output_type": "stream",
     "text": [
      "Rating = 62.38\n",
      "+ 1.81 * Protein\n",
      "-4.79 * Fat\n",
      "-0.05 * Sodium\n",
      "-0.24 * Carbo\n",
      "-2.01 * Sugars\n",
      "+ 0.07 * Potass\n",
      "-0.05 * Vitamins\n"
     ]
    }
   ],
   "source": [
    "md_2.coefficient()"
   ]
  },
  {
   "cell_type": "code",
   "execution_count": 23,
   "metadata": {},
   "outputs": [
    {
     "data": {
      "image/png": "[encoded data removed]",
      "text/plain": [
       "<Figure size 640x480 with 1 Axes>"
      ]
     },
     "metadata": {},
     "output_type": "display_data"
    },
    {
     "data": {
      "image/png": "[encoded data removed]",
      "text/plain": [
       "<Figure size 640x480 with 1 Axes>"
      ]
     },
     "metadata": {},
     "output_type": "display_data"
    }
   ],
   "source": [
    "md_2.plots()"
   ]
  },
  {
   "attachments": {},
   "cell_type": "markdown",
   "metadata": {},
   "source": [
    "---\n",
    "### For Model 3 - Considering Nutritional Features after deciding based on correlation matrix coefficeints on Rating \n",
    "---"
   ]
  },
  {
   "attachments": {},
   "cell_type": "markdown",
   "metadata": {},
   "source": [
    "As __Carbo__ has very low correlation coef. with rating (correlation coefficient = 0.089), ignoring only __Carbo__"
   ]
  },
  {
   "cell_type": "code",
   "execution_count": 24,
   "metadata": {},
   "outputs": [],
   "source": [
    "model_3_features = ['Calories',\n",
    "                    'Protein',\n",
    "                    'Fat',\n",
    "                    'Sodium',\n",
    "                    'Fiber',\n",
    "                    'Sugars',\n",
    "                    'Potass',\n",
    "                    'Vitamins']\n",
    "md_3 = Multiple_LinearRegression(model_number=3, df=df2, X_column_name=model_3_features, \n",
    "                                y_column_name='Rating', \n",
    "                                test_size=0.2, random_state=42)"
   ]
  },
  {
   "cell_type": "code",
   "execution_count": 25,
   "metadata": {},
   "outputs": [
    {
     "name": "stdout",
     "output_type": "stream",
     "text": [
      "Model No. 3 Details: -\n"
     ]
    },
    {
     "data": {
      "text/html": [
       "<div>\n",
       "<style scoped>\n",
       "    .dataframe tbody tr th:only-of-type {\n",
       "        vertical-align: middle;\n",
       "    }\n",
       "\n",
       "    .dataframe tbody tr th {\n",
       "        vertical-align: top;\n",
       "    }\n",
       "\n",
       "    .dataframe thead th {\n",
       "        text-align: right;\n",
       "    }\n",
       "</style>\n",
       "<table border=\"1\" class=\"dataframe\">\n",
       "  <thead>\n",
       "    <tr style=\"text-align: right;\">\n",
       "      <th></th>\n",
       "      <th>metrics</th>\n",
       "      <th>error</th>\n",
       "    </tr>\n",
       "  </thead>\n",
       "  <tbody>\n",
       "    <tr>\n",
       "      <th>0</th>\n",
       "      <td>r2_score</td>\n",
       "      <td>0.99</td>\n",
       "    </tr>\n",
       "    <tr>\n",
       "      <th>1</th>\n",
       "      <td>mean_absolute_error</td>\n",
       "      <td>1.07</td>\n",
       "    </tr>\n",
       "    <tr>\n",
       "      <th>2</th>\n",
       "      <td>mean_squared_error</td>\n",
       "      <td>2.26</td>\n",
       "    </tr>\n",
       "  </tbody>\n",
       "</table>\n",
       "</div>"
      ],
      "text/plain": [
       "               metrics  error\n",
       "0             r2_score   0.99\n",
       "1  mean_absolute_error   1.07\n",
       "2   mean_squared_error   2.26"
      ]
     },
     "execution_count": 25,
     "metadata": {},
     "output_type": "execute_result"
    }
   ],
   "source": [
    "md_3.error_score()"
   ]
  },
  {
   "cell_type": "code",
   "execution_count": 26,
   "metadata": {},
   "outputs": [
    {
     "name": "stdout",
     "output_type": "stream",
     "text": [
      "Rating = 58.33\n",
      "+ 0.0 * Calories\n",
      "+ 2.04 * Protein\n",
      "-3.91 * Fat\n",
      "-0.05 * Sodium\n",
      "+ 2.9 * Fiber\n",
      "-1.76 * Sugars\n",
      "-0.02 * Potass\n",
      "-0.05 * Vitamins\n"
     ]
    }
   ],
   "source": [
    "md_3.coefficient()"
   ]
  },
  {
   "cell_type": "code",
   "execution_count": 27,
   "metadata": {},
   "outputs": [
    {
     "data": {
      "image/png": "[encoded data removed]",
      "text/plain": [
       "<Figure size 640x480 with 1 Axes>"
      ]
     },
     "metadata": {},
     "output_type": "display_data"
    },
    {
     "data": {
      "image/png": "[encoded data removed]",
      "text/plain": [
       "<Figure size 640x480 with 1 Axes>"
      ]
     },
     "metadata": {},
     "output_type": "display_data"
    }
   ],
   "source": [
    "md_3.plots()"
   ]
  },
  {
   "attachments": {},
   "cell_type": "markdown",
   "metadata": {},
   "source": [
    "---\n",
    "### For Model 4 - Considering Nutritional Features after deciding based on correlation matrix & multicollinearity VIF\n",
    "---"
   ]
  },
  {
   "attachments": {},
   "cell_type": "markdown",
   "metadata": {},
   "source": [
    "As per the findings from heatmap (correltion matrix)\n",
    "- __Calories,Fiber,Sugars__ has high correlation coef. with rating (correlation coefficient > 0.5)\n",
    "- __Carbo__ has very low correlation coefficient = 0.089\n",
    "\n",
    "##### _Colinearity with other independent variable_\n",
    "Considering the correlation coefficient > 0.5 :\n",
    "\n",
    "1. Potass is highly co-related with Fiber (0.91)\n",
    "2. Potass with protein (0.56)\n",
    "3. Sugars with calories (0.57) \n",
    "\n",
    "Ignoring only potass & calculating VIF"
   ]
  },
  {
   "cell_type": "code",
   "execution_count": 28,
   "metadata": {},
   "outputs": [
    {
     "data": {
      "text/html": [
       "<div>\n",
       "<style scoped>\n",
       "    .dataframe tbody tr th:only-of-type {\n",
       "        vertical-align: middle;\n",
       "    }\n",
       "\n",
       "    .dataframe tbody tr th {\n",
       "        vertical-align: top;\n",
       "    }\n",
       "\n",
       "    .dataframe thead th {\n",
       "        text-align: right;\n",
       "    }\n",
       "</style>\n",
       "<table border=\"1\" class=\"dataframe\">\n",
       "  <thead>\n",
       "    <tr style=\"text-align: right;\">\n",
       "      <th></th>\n",
       "      <th>Feature_Names</th>\n",
       "      <th>VIF</th>\n",
       "    </tr>\n",
       "  </thead>\n",
       "  <tbody>\n",
       "    <tr>\n",
       "      <th>0</th>\n",
       "      <td>Calories</td>\n",
       "      <td>2.726395</td>\n",
       "    </tr>\n",
       "    <tr>\n",
       "      <th>2</th>\n",
       "      <td>Sugars</td>\n",
       "      <td>1.915254</td>\n",
       "    </tr>\n",
       "    <tr>\n",
       "      <th>3</th>\n",
       "      <td>Protein</td>\n",
       "      <td>1.815740</td>\n",
       "    </tr>\n",
       "    <tr>\n",
       "      <th>1</th>\n",
       "      <td>Fiber</td>\n",
       "      <td>1.691301</td>\n",
       "    </tr>\n",
       "    <tr>\n",
       "      <th>5</th>\n",
       "      <td>Fat</td>\n",
       "      <td>1.511314</td>\n",
       "    </tr>\n",
       "    <tr>\n",
       "      <th>4</th>\n",
       "      <td>Sodium</td>\n",
       "      <td>1.283260</td>\n",
       "    </tr>\n",
       "    <tr>\n",
       "      <th>6</th>\n",
       "      <td>Vitamins</td>\n",
       "      <td>1.222164</td>\n",
       "    </tr>\n",
       "  </tbody>\n",
       "</table>\n",
       "</div>"
      ],
      "text/plain": [
       "  Feature_Names       VIF\n",
       "0      Calories  2.726395\n",
       "2        Sugars  1.915254\n",
       "3       Protein  1.815740\n",
       "1         Fiber  1.691301\n",
       "5           Fat  1.511314\n",
       "4        Sodium  1.283260\n",
       "6      Vitamins  1.222164"
      ]
     },
     "execution_count": 28,
     "metadata": {},
     "output_type": "execute_result"
    }
   ],
   "source": [
    "model_4_features = ['Calories',\n",
    "                    'Fiber',\n",
    "                    'Sugars',\n",
    "                    'Protein',\n",
    "                    'Sodium',\n",
    "                    'Fat',\n",
    "                    'Vitamins'\n",
    "                    ]\n",
    "calculate_vif(df2,model_4_features)"
   ]
  },
  {
   "cell_type": "code",
   "execution_count": 29,
   "metadata": {},
   "outputs": [],
   "source": [
    "\n",
    "md_4 = Multiple_LinearRegression(model_number=4, df=df2, X_column_name=model_4_features, \n",
    "                                y_column_name='Rating', \n",
    "                                test_size=0.2, random_state=42)"
   ]
  },
  {
   "cell_type": "code",
   "execution_count": 30,
   "metadata": {},
   "outputs": [
    {
     "name": "stdout",
     "output_type": "stream",
     "text": [
      "Model No. 4 Details: -\n"
     ]
    },
    {
     "data": {
      "text/html": [
       "<div>\n",
       "<style scoped>\n",
       "    .dataframe tbody tr th:only-of-type {\n",
       "        vertical-align: middle;\n",
       "    }\n",
       "\n",
       "    .dataframe tbody tr th {\n",
       "        vertical-align: top;\n",
       "    }\n",
       "\n",
       "    .dataframe thead th {\n",
       "        text-align: right;\n",
       "    }\n",
       "</style>\n",
       "<table border=\"1\" class=\"dataframe\">\n",
       "  <thead>\n",
       "    <tr style=\"text-align: right;\">\n",
       "      <th></th>\n",
       "      <th>metrics</th>\n",
       "      <th>error</th>\n",
       "    </tr>\n",
       "  </thead>\n",
       "  <tbody>\n",
       "    <tr>\n",
       "      <th>0</th>\n",
       "      <td>r2_score</td>\n",
       "      <td>0.99</td>\n",
       "    </tr>\n",
       "    <tr>\n",
       "      <th>1</th>\n",
       "      <td>mean_absolute_error</td>\n",
       "      <td>1.04</td>\n",
       "    </tr>\n",
       "    <tr>\n",
       "      <th>2</th>\n",
       "      <td>mean_squared_error</td>\n",
       "      <td>1.94</td>\n",
       "    </tr>\n",
       "  </tbody>\n",
       "</table>\n",
       "</div>"
      ],
      "text/plain": [
       "               metrics  error\n",
       "0             r2_score   0.99\n",
       "1  mean_absolute_error   1.04\n",
       "2   mean_squared_error   1.94"
      ]
     },
     "execution_count": 30,
     "metadata": {},
     "output_type": "execute_result"
    }
   ],
   "source": [
    "md_4.error_score()"
   ]
  },
  {
   "cell_type": "code",
   "execution_count": 31,
   "metadata": {},
   "outputs": [
    {
     "name": "stdout",
     "output_type": "stream",
     "text": [
      "Rating = 58.69\n",
      "-0.0 * Calories\n",
      "+ 2.44 * Fiber\n",
      "-1.78 * Sugars\n",
      "+ 1.92 * Protein\n",
      "-0.05 * Sodium\n",
      "-4.02 * Fat\n",
      "-0.05 * Vitamins\n"
     ]
    }
   ],
   "source": [
    "md_4.coefficient()"
   ]
  },
  {
   "cell_type": "code",
   "execution_count": 32,
   "metadata": {},
   "outputs": [
    {
     "data": {
      "image/png": "[encoded data removed]",
      "text/plain": [
       "<Figure size 640x480 with 1 Axes>"
      ]
     },
     "metadata": {},
     "output_type": "display_data"
    },
    {
     "data": {
      "image/png": "[encoded data removed]",
      "text/plain": [
       "<Figure size 640x480 with 1 Axes>"
      ]
     },
     "metadata": {},
     "output_type": "display_data"
    }
   ],
   "source": [
    "md_4.plots()"
   ]
  },
  {
   "attachments": {},
   "cell_type": "markdown",
   "metadata": {},
   "source": [
    "---\n",
    "### Model Results\n",
    "After training & testing models with changing features, it is better to select model 4 with all features except Potass \n",
    "Model 1 has low mean_absolute_error\t- 0.78 & mean_squared_error - 1.31 compared to Model 4 with mean_absolute_error\t- 1.04 & mean_squared_error\t1.94, but it is not feasible to consider all features & train model as it is not always possible to give such a good result.\n",
    "Model 4 gives output which is unbiased and can be considered in all tests.\n",
    "\n",
    "---"
   ]
  },
  {
   "cell_type": "markdown",
   "metadata": {},
   "source": [
    "Testing 2 cereals provided by Brand XYZ and provide rating to the cereals company\n",
    "- Cereal A\n",
    "- Cereal B"
   ]
  },
  {
   "cell_type": "code",
   "execution_count": 33,
   "metadata": {},
   "outputs": [],
   "source": [
    "test_df = pd.read_excel(\"Brand XYZ cereals without ratings.xlsx\")"
   ]
  },
  {
   "cell_type": "code",
   "execution_count": 34,
   "metadata": {},
   "outputs": [
    {
     "data": {
      "text/html": [
       "<div>\n",
       "<style scoped>\n",
       "    .dataframe tbody tr th:only-of-type {\n",
       "        vertical-align: middle;\n",
       "    }\n",
       "\n",
       "    .dataframe tbody tr th {\n",
       "        vertical-align: top;\n",
       "    }\n",
       "\n",
       "    .dataframe thead th {\n",
       "        text-align: right;\n",
       "    }\n",
       "</style>\n",
       "<table border=\"1\" class=\"dataframe\">\n",
       "  <thead>\n",
       "    <tr style=\"text-align: right;\">\n",
       "      <th></th>\n",
       "      <th>Name</th>\n",
       "      <th>Manuf</th>\n",
       "      <th>Type</th>\n",
       "      <th>Calories</th>\n",
       "      <th>Protein</th>\n",
       "      <th>Fat</th>\n",
       "      <th>Sodium</th>\n",
       "      <th>Fiber</th>\n",
       "      <th>Carbo</th>\n",
       "      <th>Sugars</th>\n",
       "      <th>...</th>\n",
       "      <th>Weight</th>\n",
       "      <th>Cups</th>\n",
       "      <th>Rating</th>\n",
       "      <th>Cold</th>\n",
       "      <th>Nabisco</th>\n",
       "      <th>Quaker</th>\n",
       "      <th>Kelloggs</th>\n",
       "      <th>GeneralMills</th>\n",
       "      <th>Ralston</th>\n",
       "      <th>AHFP</th>\n",
       "    </tr>\n",
       "  </thead>\n",
       "  <tbody>\n",
       "    <tr>\n",
       "      <th>0</th>\n",
       "      <td>Cereal A</td>\n",
       "      <td>X</td>\n",
       "      <td>C</td>\n",
       "      <td>90</td>\n",
       "      <td>3</td>\n",
       "      <td>0</td>\n",
       "      <td>210</td>\n",
       "      <td>5</td>\n",
       "      <td>13</td>\n",
       "      <td>5</td>\n",
       "      <td>...</td>\n",
       "      <td>1</td>\n",
       "      <td>0.67</td>\n",
       "      <td></td>\n",
       "      <td>1</td>\n",
       "      <td>0</td>\n",
       "      <td>0</td>\n",
       "      <td>0</td>\n",
       "      <td>0</td>\n",
       "      <td>0</td>\n",
       "      <td>0</td>\n",
       "    </tr>\n",
       "    <tr>\n",
       "      <th>1</th>\n",
       "      <td>Cereal B</td>\n",
       "      <td>X</td>\n",
       "      <td>C</td>\n",
       "      <td>120</td>\n",
       "      <td>1</td>\n",
       "      <td>2</td>\n",
       "      <td>220</td>\n",
       "      <td>0</td>\n",
       "      <td>12</td>\n",
       "      <td>12</td>\n",
       "      <td>...</td>\n",
       "      <td>1</td>\n",
       "      <td>0.75</td>\n",
       "      <td></td>\n",
       "      <td>1</td>\n",
       "      <td>0</td>\n",
       "      <td>0</td>\n",
       "      <td>0</td>\n",
       "      <td>0</td>\n",
       "      <td>0</td>\n",
       "      <td>0</td>\n",
       "    </tr>\n",
       "  </tbody>\n",
       "</table>\n",
       "<p>2 rows × 23 columns</p>\n",
       "</div>"
      ],
      "text/plain": [
       "       Name Manuf Type  Calories  Protein  Fat  Sodium  Fiber  Carbo  Sugars  \\\n",
       "0  Cereal A     X   C         90        3    0     210      5     13       5   \n",
       "1  Cereal B     X   C        120        1    2     220      0     12      12   \n",
       "\n",
       "   ...  Weight  Cups  Rating  Cold  Nabisco Quaker  Kelloggs  GeneralMills  \\\n",
       "0  ...       1  0.67             1        0      0         0             0   \n",
       "1  ...       1  0.75             1        0      0         0             0   \n",
       "\n",
       "   Ralston  AHFP  \n",
       "0        0     0  \n",
       "1        0     0  \n",
       "\n",
       "[2 rows x 23 columns]"
      ]
     },
     "execution_count": 34,
     "metadata": {},
     "output_type": "execute_result"
    }
   ],
   "source": [
    "test_df.head()"
   ]
  },
  {
   "cell_type": "code",
   "execution_count": 35,
   "metadata": {},
   "outputs": [
    {
     "name": "stdout",
     "output_type": "stream",
     "text": [
      "<class 'pandas.core.frame.DataFrame'>\n",
      "RangeIndex: 2 entries, 0 to 1\n",
      "Data columns (total 23 columns):\n",
      " #   Column        Non-Null Count  Dtype  \n",
      "---  ------        --------------  -----  \n",
      " 0   Name          2 non-null      object \n",
      " 1   Manuf         2 non-null      object \n",
      " 2   Type          2 non-null      object \n",
      " 3   Calories      2 non-null      int64  \n",
      " 4   Protein       2 non-null      int64  \n",
      " 5   Fat           2 non-null      int64  \n",
      " 6   Sodium        2 non-null      int64  \n",
      " 7   Fiber         2 non-null      int64  \n",
      " 8   Carbo         2 non-null      int64  \n",
      " 9   Sugars        2 non-null      int64  \n",
      " 10  Potass        2 non-null      int64  \n",
      " 11  Vitamins      2 non-null      int64  \n",
      " 12  Shelf         2 non-null      int64  \n",
      " 13  Weight        2 non-null      int64  \n",
      " 14  Cups          2 non-null      float64\n",
      " 15  Rating        2 non-null      object \n",
      " 16  Cold          2 non-null      int64  \n",
      " 17  Nabisco       2 non-null      int64  \n",
      " 18  Quaker        2 non-null      int64  \n",
      " 19  Kelloggs      2 non-null      int64  \n",
      " 20  GeneralMills  2 non-null      int64  \n",
      " 21  Ralston       2 non-null      int64  \n",
      " 22  AHFP          2 non-null      int64  \n",
      "dtypes: float64(1), int64(18), object(4)\n",
      "memory usage: 496.0+ bytes\n"
     ]
    }
   ],
   "source": [
    "test_df.info()"
   ]
  },
  {
   "cell_type": "code",
   "execution_count": 36,
   "metadata": {},
   "outputs": [
    {
     "data": {
      "text/html": [
       "<div>\n",
       "<style scoped>\n",
       "    .dataframe tbody tr th:only-of-type {\n",
       "        vertical-align: middle;\n",
       "    }\n",
       "\n",
       "    .dataframe tbody tr th {\n",
       "        vertical-align: top;\n",
       "    }\n",
       "\n",
       "    .dataframe thead th {\n",
       "        text-align: right;\n",
       "    }\n",
       "</style>\n",
       "<table border=\"1\" class=\"dataframe\">\n",
       "  <thead>\n",
       "    <tr style=\"text-align: right;\">\n",
       "      <th></th>\n",
       "      <th>Calories</th>\n",
       "      <th>Protein</th>\n",
       "      <th>Fat</th>\n",
       "      <th>Sodium</th>\n",
       "      <th>Fiber</th>\n",
       "      <th>Carbo</th>\n",
       "      <th>Sugars</th>\n",
       "      <th>Vitamins</th>\n",
       "    </tr>\n",
       "  </thead>\n",
       "  <tbody>\n",
       "    <tr>\n",
       "      <th>0</th>\n",
       "      <td>90</td>\n",
       "      <td>3</td>\n",
       "      <td>0</td>\n",
       "      <td>210</td>\n",
       "      <td>5</td>\n",
       "      <td>13</td>\n",
       "      <td>5</td>\n",
       "      <td>25</td>\n",
       "    </tr>\n",
       "    <tr>\n",
       "      <th>1</th>\n",
       "      <td>120</td>\n",
       "      <td>1</td>\n",
       "      <td>2</td>\n",
       "      <td>220</td>\n",
       "      <td>0</td>\n",
       "      <td>12</td>\n",
       "      <td>12</td>\n",
       "      <td>25</td>\n",
       "    </tr>\n",
       "  </tbody>\n",
       "</table>\n",
       "</div>"
      ],
      "text/plain": [
       "   Calories  Protein  Fat  Sodium  Fiber  Carbo  Sugars  Vitamins\n",
       "0        90        3    0     210      5     13       5        25\n",
       "1       120        1    2     220      0     12      12        25"
      ]
     },
     "execution_count": 36,
     "metadata": {},
     "output_type": "execute_result"
    }
   ],
   "source": [
    "test = test_df.iloc[:,[3,4,5,6,7,8,9,11]]\n",
    "test"
   ]
  },
  {
   "cell_type": "code",
   "execution_count": 37,
   "metadata": {},
   "outputs": [
    {
     "data": {
      "text/plain": [
       "array([55.72693704, 18.65241249])"
      ]
     },
     "execution_count": 37,
     "metadata": {},
     "output_type": "execute_result"
    }
   ],
   "source": [
    "md_4.predict(test)"
   ]
  },
  {
   "attachments": {},
   "cell_type": "markdown",
   "metadata": {},
   "source": [
    "---\n",
    "### Rating of Cereal A:- 55.72\n",
    "### Rating of Cereal B:- 18.65\n",
    "### It is good to select Cereal A for the company and can focus on selling it \n",
    "---"
   ]
  }
 ],
 "metadata": {
  "kernelspec": {
   "display_name": "Python 3 (ipykernel)",
   "language": "python",
   "name": "python3"
  },
  "language_info": {
   "codemirror_mode": {
    "name": "ipython",
    "version": 3
   },
   "file_extension": ".py",
   "mimetype": "text/x-python",
   "name": "python",
   "nbconvert_exporter": "python",
   "pygments_lexer": "ipython3",
   "version": "3.10.10"
  }
 },
 "nbformat": 4,
 "nbformat_minor": 2
}
